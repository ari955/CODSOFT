{
 "cells": [
  {
   "cell_type": "markdown",
   "id": "fd0ad761",
   "metadata": {},
   "source": [
    "# Credit Card Fraud"
   ]
  },
  {
   "cell_type": "markdown",
   "id": "abef8b06",
   "metadata": {},
   "source": [
    "# Step 1:\n",
    "### Importing some basic libraries needed for Machine Learning"
   ]
  },
  {
   "cell_type": "code",
   "execution_count": 34,
   "id": "95f1a36f",
   "metadata": {},
   "outputs": [],
   "source": [
    "#importing libraries\n",
    "import pandas as pd\n",
    "import numpy as np\n",
    "from sklearn.metrics import accuracy_score, confusion_matrix, classification_report "
   ]
  },
  {
   "cell_type": "markdown",
   "id": "40c57bba",
   "metadata": {},
   "source": [
    "# Step 2: \n",
    "### Importing the dataset, the dataset has two different files for training and testing"
   ]
  },
  {
   "cell_type": "code",
   "execution_count": 35,
   "id": "29e5f03d",
   "metadata": {},
   "outputs": [],
   "source": [
    "#importing the dataset\n",
    "fraud_train = pd.read_csv('fraudTrain.csv')\n",
    "fraud_test = pd.read_csv('fraudTest.csv')"
   ]
  },
  {
   "cell_type": "markdown",
   "id": "80dcfdef",
   "metadata": {},
   "source": [
    "# Step 3:\n",
    "### Preprocessing the data"
   ]
  },
  {
   "cell_type": "code",
   "execution_count": 36,
   "id": "c6beb355",
   "metadata": {},
   "outputs": [
    {
     "name": "stdout",
     "output_type": "stream",
     "text": [
      "   Unnamed: 0 trans_date_trans_time            cc_num  \\\n",
      "0           0   2019-01-01 00:00:18  2703186189652095   \n",
      "1           1   2019-01-01 00:00:44      630423337322   \n",
      "2           2   2019-01-01 00:00:51    38859492057661   \n",
      "3           3   2019-01-01 00:01:16  3534093764340240   \n",
      "4           4   2019-01-01 00:03:06   375534208663984   \n",
      "5           5   2019-01-01 00:04:08  4767265376804500   \n",
      "6           6   2019-01-01 00:04:42    30074693890476   \n",
      "7           7   2019-01-01 00:05:08  6011360759745864   \n",
      "8           8   2019-01-01 00:05:18  4922710831011201   \n",
      "9           9   2019-01-01 00:06:01  2720830304681674   \n",
      "\n",
      "                             merchant       category     amt      first  \\\n",
      "0          fraud_Rippin, Kub and Mann       misc_net    4.97   Jennifer   \n",
      "1     fraud_Heller, Gutmann and Zieme    grocery_pos  107.23  Stephanie   \n",
      "2                fraud_Lind-Buckridge  entertainment  220.11     Edward   \n",
      "3  fraud_Kutch, Hermiston and Farrell  gas_transport   45.00     Jeremy   \n",
      "4                 fraud_Keeling-Crist       misc_pos   41.96      Tyler   \n",
      "5    fraud_Stroman, Hudson and Erdman  gas_transport   94.63   Jennifer   \n",
      "6               fraud_Rowe-Vandervort    grocery_net   44.54     Kelsey   \n",
      "7                fraud_Corwin-Collins  gas_transport   71.65     Steven   \n",
      "8                    fraud_Herzog Ltd       misc_pos    4.27    Heather   \n",
      "9   fraud_Schoen, Kuphal and Nitzsche    grocery_pos  198.39    Melissa   \n",
      "\n",
      "       last gender                          street  ...      lat      long  \\\n",
      "0     Banks      F                  561 Perry Cove  ...  36.0788  -81.1781   \n",
      "1      Gill      F    43039 Riley Greens Suite 393  ...  48.8878 -118.2105   \n",
      "2   Sanchez      M        594 White Dale Suite 530  ...  42.1808 -112.2620   \n",
      "3     White      M     9443 Cynthia Court Apt. 038  ...  46.2306 -112.1138   \n",
      "4    Garcia      M                408 Bradley Rest  ...  38.4207  -79.4629   \n",
      "5    Conner      F               4655 David Island  ...  40.3750  -75.2045   \n",
      "6  Richards      F     889 Sarah Station Suite 624  ...  37.9931 -100.9893   \n",
      "7  Williams      M       231 Flores Pass Suite 720  ...  38.8432  -78.6003   \n",
      "8     Chase      F     6888 Hicks Stream Suite 954  ...  40.3359  -79.6607   \n",
      "9   Aguilar      F  21326 Taylor Squares Suite 708  ...  36.5220  -87.3490   \n",
      "\n",
      "   city_pop                                job         dob  \\\n",
      "0      3495          Psychologist, counselling  1988-03-09   \n",
      "1       149  Special educational needs teacher  1978-06-21   \n",
      "2      4154        Nature conservation officer  1962-01-19   \n",
      "3      1939                    Patent attorney  1967-01-12   \n",
      "4        99     Dance movement psychotherapist  1986-03-28   \n",
      "5      2158                  Transport planner  1961-06-19   \n",
      "6      2691                    Arboriculturist  1993-08-16   \n",
      "7      6018               Designer, multimedia  1947-08-21   \n",
      "8      1472          Public affairs consultant  1941-03-07   \n",
      "9    151785                        Pathologist  1974-03-28   \n",
      "\n",
      "                          trans_num   unix_time  merch_lat  merch_long  \\\n",
      "0  0b242abb623afc578575680df30655b9  1325376018  36.011293  -82.048315   \n",
      "1  1f76529f8574734946361c461b024d99  1325376044  49.159047 -118.186462   \n",
      "2  a1a22d70485983eac12b5b88dad1cf95  1325376051  43.150704 -112.154481   \n",
      "3  6b849c168bdad6f867558c3793159a81  1325376076  47.034331 -112.561071   \n",
      "4  a41d7549acf90789359a9aa5346dcb46  1325376186  38.674999  -78.632459   \n",
      "5  189a841a0a8ba03058526bcfe566aab5  1325376248  40.653382  -76.152667   \n",
      "6  83ec1cc84142af6e2acf10c44949e720  1325376282  37.162705 -100.153370   \n",
      "7  6d294ed2cc447d2c71c7171a3d54967c  1325376308  38.948089  -78.540296   \n",
      "8  fc28024ce480f8ef21a32d64c93a29f5  1325376318  40.351813  -79.958146   \n",
      "9  3b9014ea8fb80bd65de0b1463b00b00e  1325376361  37.179198  -87.485381   \n",
      "\n",
      "   is_fraud  \n",
      "0         0  \n",
      "1         0  \n",
      "2         0  \n",
      "3         0  \n",
      "4         0  \n",
      "5         0  \n",
      "6         0  \n",
      "7         0  \n",
      "8         0  \n",
      "9         0  \n",
      "\n",
      "[10 rows x 23 columns]\n",
      "\n",
      "   Unnamed: 0 trans_date_trans_time            cc_num  \\\n",
      "0           0   2020-06-21 12:14:25  2291163933867244   \n",
      "1           1   2020-06-21 12:14:33  3573030041201292   \n",
      "2           2   2020-06-21 12:14:53  3598215285024754   \n",
      "3           3   2020-06-21 12:15:15  3591919803438423   \n",
      "4           4   2020-06-21 12:15:17  3526826139003047   \n",
      "5           5   2020-06-21 12:15:37    30407675418785   \n",
      "6           6   2020-06-21 12:15:44   213180742685905   \n",
      "7           7   2020-06-21 12:15:50  3589289942931264   \n",
      "8           8   2020-06-21 12:16:10  3596357274378601   \n",
      "9           9   2020-06-21 12:16:11  3546897637165774   \n",
      "\n",
      "                               merchant        category     amt     first  \\\n",
      "0                 fraud_Kirlin and Sons   personal_care    2.86      Jeff   \n",
      "1                  fraud_Sporer-Keebler   personal_care   29.84    Joanne   \n",
      "2  fraud_Swaniawski, Nitzsche and Welch  health_fitness   41.28    Ashley   \n",
      "3                     fraud_Haley Group        misc_pos   60.05     Brian   \n",
      "4                 fraud_Johnston-Casper          travel    3.19    Nathan   \n",
      "5                   fraud_Daugherty LLC       kids_pets   19.55  Danielle   \n",
      "6                   fraud_Romaguera Ltd  health_fitness  133.93     Kayla   \n",
      "7                     fraud_Reichel LLC   personal_care   10.37     Paula   \n",
      "8     fraud_Goyette, Howell and Collier    shopping_pos    4.37     David   \n",
      "9                   fraud_Kilback Group     food_dining   66.54     Kayla   \n",
      "\n",
      "       last gender                       street  ...      lat      long  \\\n",
      "0   Elliott      M            351 Darlene Green  ...  33.9659  -80.9355   \n",
      "1  Williams      F             3638 Marsh Union  ...  40.3207 -110.4360   \n",
      "2     Lopez      F         9333 Valentine Point  ...  40.6729  -73.5365   \n",
      "3  Williams      M  32941 Krystal Mill Apt. 552  ...  28.5697  -80.8191   \n",
      "4    Massey      M     5783 Evan Roads Apt. 465  ...  44.2529  -85.0170   \n",
      "5     Evans      F   76752 David Lodge Apt. 064  ...  42.1939  -76.7361   \n",
      "6    Sutton      F              010 Weaver Land  ...  40.5070 -123.9743   \n",
      "7   Estrada      F              350 Stacy Glens  ...  43.7557  -97.5936   \n",
      "8   Everett      M              4138 David Fall  ...  41.0001  -78.2357   \n",
      "9    Obrien      F   7921 Robert Port Suite 343  ...  31.6591  -96.8094   \n",
      "\n",
      "   city_pop                                    job         dob  \\\n",
      "0    333497                    Mechanical engineer  1968-03-19   \n",
      "1       302                 Sales professional, IT  1990-01-17   \n",
      "2     34496                      Librarian, public  1970-10-21   \n",
      "3     54767                           Set designer  1987-07-25   \n",
      "4      1126                     Furniture designer  1955-07-06   \n",
      "5       520                        Psychotherapist  1991-10-13   \n",
      "6      1139                Therapist, occupational  1951-01-15   \n",
      "7       343  Development worker, international aid  1972-03-05   \n",
      "8      3688                          Advice worker  1973-05-27   \n",
      "9       263                              Barrister  1956-05-30   \n",
      "\n",
      "                          trans_num   unix_time  merch_lat  merch_long  \\\n",
      "0  2da90c7d74bd46a0caf3777415b3ebd3  1371816865  33.986391  -81.200714   \n",
      "1  324cc204407e99f51b0d6ca0055005e7  1371816873  39.450498 -109.960431   \n",
      "2  c81755dbbbea9d5c77f094348a7579be  1371816893  40.495810  -74.196111   \n",
      "3  2159175b9efe66dc301f149d3d5abf8c  1371816915  28.812398  -80.883061   \n",
      "4  57ff021bd3f328f8738bb535c302a31b  1371816917  44.959148  -85.884734   \n",
      "5  798db04aaceb4febd084f1a7c404da93  1371816937  41.747157  -77.584197   \n",
      "6  17003d7ce534440eadb10c4750e020e5  1371816944  41.499458 -124.888729   \n",
      "7  8be473af4f05fc6146ea55ace73e7ca2  1371816950  44.495498  -97.728453   \n",
      "8  71a1da150d1ce510193d7622e08e784e  1371816970  41.546067  -78.120238   \n",
      "9  a7915132c7c4240996ba03a47f81e3bd  1371816971  31.782919  -96.366185   \n",
      "\n",
      "   is_fraud  \n",
      "0         0  \n",
      "1         0  \n",
      "2         0  \n",
      "3         0  \n",
      "4         0  \n",
      "5         0  \n",
      "6         0  \n",
      "7         0  \n",
      "8         0  \n",
      "9         0  \n",
      "\n",
      "[10 rows x 23 columns]\n"
     ]
    }
   ],
   "source": [
    "#preprocess the data\n",
    "print(fraud_train.head(10))\n",
    "print()\n",
    "print(fraud_test.head(10))"
   ]
  },
  {
   "cell_type": "markdown",
   "id": "e2aa3cff",
   "metadata": {},
   "source": [
    "### CHECKING IF THEIR ARE ANY NULL VALUES "
   ]
  },
  {
   "cell_type": "code",
   "execution_count": 37,
   "id": "ab11b031",
   "metadata": {},
   "outputs": [
    {
     "name": "stdout",
     "output_type": "stream",
     "text": [
      "Unnamed: 0               0\n",
      "trans_date_trans_time    0\n",
      "cc_num                   0\n",
      "merchant                 0\n",
      "category                 0\n",
      "amt                      0\n",
      "first                    0\n",
      "last                     0\n",
      "gender                   0\n",
      "street                   0\n",
      "city                     0\n",
      "state                    0\n",
      "zip                      0\n",
      "lat                      0\n",
      "long                     0\n",
      "city_pop                 0\n",
      "job                      0\n",
      "dob                      0\n",
      "trans_num                0\n",
      "unix_time                0\n",
      "merch_lat                0\n",
      "merch_long               0\n",
      "is_fraud                 0\n",
      "dtype: int64\n"
     ]
    }
   ],
   "source": [
    "print(fraud_train.isna().sum())"
   ]
  },
  {
   "cell_type": "code",
   "execution_count": 38,
   "id": "6a06b042",
   "metadata": {},
   "outputs": [
    {
     "name": "stdout",
     "output_type": "stream",
     "text": [
      "['Unnamed: 0' 'trans_date_trans_time' 'cc_num' 'merchant' 'category' 'amt'\n",
      " 'first' 'last' 'gender' 'street' 'city' 'state' 'zip' 'lat' 'long'\n",
      " 'city_pop' 'job' 'dob' 'trans_num' 'unix_time' 'merch_lat' 'merch_long'\n",
      " 'is_fraud']\n"
     ]
    }
   ],
   "source": [
    "print(fraud_train.columns.values)"
   ]
  },
  {
   "cell_type": "code",
   "execution_count": 39,
   "id": "5e28704b",
   "metadata": {},
   "outputs": [
    {
     "data": {
      "text/plain": [
       "fraud_Kilback LLC                       4403\n",
       "fraud_Cormier LLC                       3649\n",
       "fraud_Schumm PLC                        3634\n",
       "fraud_Kuhn LLC                          3510\n",
       "fraud_Boyer PLC                         3493\n",
       "                                        ... \n",
       "fraud_Douglas, DuBuque and McKenzie      775\n",
       "fraud_Treutel-King                       775\n",
       "fraud_Medhurst, Labadie and Gottlieb     759\n",
       "fraud_Reichert-Weissnat                  753\n",
       "fraud_Hahn, Douglas and Schowalter       727\n",
       "Name: merchant, Length: 693, dtype: int64"
      ]
     },
     "execution_count": 39,
     "metadata": {},
     "output_type": "execute_result"
    }
   ],
   "source": [
    "fraud_train['merchant'].value_counts()"
   ]
  },
  {
   "cell_type": "code",
   "execution_count": 40,
   "id": "d0efcf19",
   "metadata": {},
   "outputs": [
    {
     "data": {
      "text/plain": [
       "gas_transport     131659\n",
       "grocery_pos       123638\n",
       "home              123115\n",
       "shopping_pos      116672\n",
       "kids_pets         113035\n",
       "shopping_net       97543\n",
       "entertainment      94014\n",
       "food_dining        91461\n",
       "personal_care      90758\n",
       "health_fitness     85879\n",
       "misc_pos           79655\n",
       "misc_net           63287\n",
       "grocery_net        45452\n",
       "travel             40507\n",
       "Name: category, dtype: int64"
      ]
     },
     "execution_count": 40,
     "metadata": {},
     "output_type": "execute_result"
    }
   ],
   "source": [
    "fraud_train['category'].value_counts()"
   ]
  },
  {
   "cell_type": "markdown",
   "id": "38074b07",
   "metadata": {},
   "source": [
    "## Step 4:\n",
    "### Converting categorical to Numerical "
   ]
  },
  {
   "cell_type": "code",
   "execution_count": 41,
   "id": "bee76957",
   "metadata": {},
   "outputs": [],
   "source": [
    "#label encoding \n",
    "from sklearn.preprocessing import LabelEncoder\n",
    "encoder = LabelEncoder()\n",
    "fraud_train['merchant'] = encoder.fit_transform(fraud_train['merchant'])\n",
    "fraud_train['category'] = encoder.fit_transform(fraud_train['category'])\n",
    "\n",
    "fraud_test['merchant'] = encoder.fit_transform(fraud_test['merchant'])\n",
    "fraud_test['category'] = encoder.fit_transform(fraud_test['category'])"
   ]
  },
  {
   "cell_type": "markdown",
   "id": "c43f5590",
   "metadata": {},
   "source": [
    "## Step 5:\n",
    "### Feature Selection"
   ]
  },
  {
   "cell_type": "code",
   "execution_count": 42,
   "id": "bcb889a5",
   "metadata": {},
   "outputs": [],
   "source": [
    "X_train  = fraud_train[['cc_num','merchant','category','amt']]\n",
    "Y_train  = fraud_train['is_fraud']\n",
    "\n",
    "X_test = fraud_test[['cc_num','merchant','category','amt']]\n",
    "Y_test  = fraud_test['is_fraud'] "
   ]
  },
  {
   "cell_type": "markdown",
   "id": "f9ccfd9e",
   "metadata": {},
   "source": [
    "### smote is used to handle imbalanced dataset, it increases the number of minority cases without affecting the majority cases\n",
    "since this dataset contains imbalanced number of fraud cases , i.e the number of case detecting fraud is less as compared to non fraud cases "
   ]
  },
  {
   "cell_type": "code",
   "execution_count": 43,
   "id": "a9aa30b6",
   "metadata": {},
   "outputs": [],
   "source": [
    "#applying smote to balance the dataset\n",
    "from imblearn.over_sampling import SMOTE\n",
    "smote = SMOTE(random_state=42)\n",
    "X_train_resampled, y_train_resampled = smote.fit_resample(X_train, Y_train)"
   ]
  },
  {
   "cell_type": "markdown",
   "id": "55281bd4",
   "metadata": {},
   "source": [
    "## Step 6:\n",
    "### Applying model"
   ]
  },
  {
   "cell_type": "code",
   "execution_count": 44,
   "id": "63e0ba42",
   "metadata": {},
   "outputs": [
    {
     "name": "stdout",
     "output_type": "stream",
     "text": [
      "Accuracy Score:  0.9772043064930297\n",
      "Confusion Matrix: [[541465  12109]\n",
      " [   559   1586]]\n",
      "Classification Report:               precision    recall  f1-score   support\n",
      "\n",
      "           0       1.00      0.98      0.99    553574\n",
      "           1       0.12      0.74      0.20      2145\n",
      "\n",
      "    accuracy                           0.98    555719\n",
      "   macro avg       0.56      0.86      0.59    555719\n",
      "weighted avg       1.00      0.98      0.99    555719\n",
      "\n"
     ]
    }
   ],
   "source": [
    "# decision tree model\n",
    "from sklearn.tree import DecisionTreeClassifier\n",
    "\n",
    "tree_model = DecisionTreeClassifier()\n",
    "tree_model.fit(X_train_resampled, y_train_resampled)\n",
    "\n",
    "y_pred2 = tree_model.predict(X_test)\n",
    "\n",
    "print(\"Accuracy Score: \", accuracy_score(Y_test, y_pred2))\n",
    "print(\"Confusion Matrix:\", confusion_matrix(Y_test, y_pred2))\n",
    "print(\"Classification Report:\", classification_report(Y_test, y_pred2))"
   ]
  },
  {
   "cell_type": "markdown",
   "id": "56cfb3aa",
   "metadata": {},
   "source": [
    "### Summary :\n",
    "1. Accuracy is high, but this is mainly due to the overwhelming number of non-fraud cases.\n",
    "2. Recall for fraud: 74% (74% of actual fraud cases were correctly identified)\n",
    "3. Precision for the fraud class:12% (only 12% of predictions for fraud were correct)"
   ]
  },
  {
   "cell_type": "markdown",
   "id": "1c7ffff8",
   "metadata": {},
   "source": [
    "## Step 7:\n",
    "### Random forest classifier"
   ]
  },
  {
   "cell_type": "code",
   "execution_count": 45,
   "id": "a0121d43",
   "metadata": {},
   "outputs": [
    {
     "data": {
      "text/html": [
       "<style>#sk-container-id-4 {color: black;background-color: white;}#sk-container-id-4 pre{padding: 0;}#sk-container-id-4 div.sk-toggleable {background-color: white;}#sk-container-id-4 label.sk-toggleable__label {cursor: pointer;display: block;width: 100%;margin-bottom: 0;padding: 0.3em;box-sizing: border-box;text-align: center;}#sk-container-id-4 label.sk-toggleable__label-arrow:before {content: \"▸\";float: left;margin-right: 0.25em;color: #696969;}#sk-container-id-4 label.sk-toggleable__label-arrow:hover:before {color: black;}#sk-container-id-4 div.sk-estimator:hover label.sk-toggleable__label-arrow:before {color: black;}#sk-container-id-4 div.sk-toggleable__content {max-height: 0;max-width: 0;overflow: hidden;text-align: left;background-color: #f0f8ff;}#sk-container-id-4 div.sk-toggleable__content pre {margin: 0.2em;color: black;border-radius: 0.25em;background-color: #f0f8ff;}#sk-container-id-4 input.sk-toggleable__control:checked~div.sk-toggleable__content {max-height: 200px;max-width: 100%;overflow: auto;}#sk-container-id-4 input.sk-toggleable__control:checked~label.sk-toggleable__label-arrow:before {content: \"▾\";}#sk-container-id-4 div.sk-estimator input.sk-toggleable__control:checked~label.sk-toggleable__label {background-color: #d4ebff;}#sk-container-id-4 div.sk-label input.sk-toggleable__control:checked~label.sk-toggleable__label {background-color: #d4ebff;}#sk-container-id-4 input.sk-hidden--visually {border: 0;clip: rect(1px 1px 1px 1px);clip: rect(1px, 1px, 1px, 1px);height: 1px;margin: -1px;overflow: hidden;padding: 0;position: absolute;width: 1px;}#sk-container-id-4 div.sk-estimator {font-family: monospace;background-color: #f0f8ff;border: 1px dotted black;border-radius: 0.25em;box-sizing: border-box;margin-bottom: 0.5em;}#sk-container-id-4 div.sk-estimator:hover {background-color: #d4ebff;}#sk-container-id-4 div.sk-parallel-item::after {content: \"\";width: 100%;border-bottom: 1px solid gray;flex-grow: 1;}#sk-container-id-4 div.sk-label:hover label.sk-toggleable__label {background-color: #d4ebff;}#sk-container-id-4 div.sk-serial::before {content: \"\";position: absolute;border-left: 1px solid gray;box-sizing: border-box;top: 0;bottom: 0;left: 50%;z-index: 0;}#sk-container-id-4 div.sk-serial {display: flex;flex-direction: column;align-items: center;background-color: white;padding-right: 0.2em;padding-left: 0.2em;position: relative;}#sk-container-id-4 div.sk-item {position: relative;z-index: 1;}#sk-container-id-4 div.sk-parallel {display: flex;align-items: stretch;justify-content: center;background-color: white;position: relative;}#sk-container-id-4 div.sk-item::before, #sk-container-id-4 div.sk-parallel-item::before {content: \"\";position: absolute;border-left: 1px solid gray;box-sizing: border-box;top: 0;bottom: 0;left: 50%;z-index: -1;}#sk-container-id-4 div.sk-parallel-item {display: flex;flex-direction: column;z-index: 1;position: relative;background-color: white;}#sk-container-id-4 div.sk-parallel-item:first-child::after {align-self: flex-end;width: 50%;}#sk-container-id-4 div.sk-parallel-item:last-child::after {align-self: flex-start;width: 50%;}#sk-container-id-4 div.sk-parallel-item:only-child::after {width: 0;}#sk-container-id-4 div.sk-dashed-wrapped {border: 1px dashed gray;margin: 0 0.4em 0.5em 0.4em;box-sizing: border-box;padding-bottom: 0.4em;background-color: white;}#sk-container-id-4 div.sk-label label {font-family: monospace;font-weight: bold;display: inline-block;line-height: 1.2em;}#sk-container-id-4 div.sk-label-container {text-align: center;}#sk-container-id-4 div.sk-container {/* jupyter's `normalize.less` sets `[hidden] { display: none; }` but bootstrap.min.css set `[hidden] { display: none !important; }` so we also need the `!important` here to be able to override the default hidden behavior on the sphinx rendered scikit-learn.org. See: https://github.com/scikit-learn/scikit-learn/issues/21755 */display: inline-block !important;position: relative;}#sk-container-id-4 div.sk-text-repr-fallback {display: none;}</style><div id=\"sk-container-id-4\" class=\"sk-top-container\"><div class=\"sk-text-repr-fallback\"><pre>RandomForestClassifier(random_state=42)</pre><b>In a Jupyter environment, please rerun this cell to show the HTML representation or trust the notebook. <br />On GitHub, the HTML representation is unable to render, please try loading this page with nbviewer.org.</b></div><div class=\"sk-container\" hidden><div class=\"sk-item\"><div class=\"sk-estimator sk-toggleable\"><input class=\"sk-toggleable__control sk-hidden--visually\" id=\"sk-estimator-id-4\" type=\"checkbox\" checked><label for=\"sk-estimator-id-4\" class=\"sk-toggleable__label sk-toggleable__label-arrow\">RandomForestClassifier</label><div class=\"sk-toggleable__content\"><pre>RandomForestClassifier(random_state=42)</pre></div></div></div></div></div>"
      ],
      "text/plain": [
       "RandomForestClassifier(random_state=42)"
      ]
     },
     "execution_count": 45,
     "metadata": {},
     "output_type": "execute_result"
    }
   ],
   "source": [
    "from sklearn.ensemble import RandomForestClassifier\n",
    "\n",
    "forest_model = RandomForestClassifier(n_estimators=100, random_state=42)\n",
    "forest_model.fit(X_train, Y_train)"
   ]
  },
  {
   "cell_type": "code",
   "execution_count": 46,
   "id": "24a737eb",
   "metadata": {},
   "outputs": [
    {
     "data": {
      "text/plain": [
       "array([0, 0, 0, ..., 0, 0, 0], dtype=int64)"
      ]
     },
     "execution_count": 46,
     "metadata": {},
     "output_type": "execute_result"
    }
   ],
   "source": [
    "y_pred_forest = forest_model.predict(X_test)\n",
    "y_pred_forest"
   ]
  },
  {
   "cell_type": "code",
   "execution_count": 47,
   "id": "c0c3ca8c",
   "metadata": {},
   "outputs": [
    {
     "name": "stdout",
     "output_type": "stream",
     "text": [
      "Accuracy Score:  0.997523928460247\n",
      "Confusion Matrix: [[553018    556]\n",
      " [   820   1325]]\n",
      "Classification Report:               precision    recall  f1-score   support\n",
      "\n",
      "           0       1.00      1.00      1.00    553574\n",
      "           1       0.70      0.62      0.66      2145\n",
      "\n",
      "    accuracy                           1.00    555719\n",
      "   macro avg       0.85      0.81      0.83    555719\n",
      "weighted avg       1.00      1.00      1.00    555719\n",
      "\n"
     ]
    }
   ],
   "source": [
    "print(\"Accuracy Score: \", accuracy_score(Y_test, y_pred_forest))\n",
    "print(\"Confusion Matrix:\", confusion_matrix(Y_test, y_pred_forest))\n",
    "print(\"Classification Report:\", classification_report(Y_test, y_pred_forest))"
   ]
  },
  {
   "cell_type": "markdown",
   "id": "054d9b63",
   "metadata": {},
   "source": [
    "#### Random forest excellently identifies legitimate cases (class 0 ) \n",
    "#### but the precision for class 1 indicates that the model identifies only 70% of total cases as fraud and which are actually fraud \n",
    "#### recall for class 1 as 0.62 indicates that out of all fraud cases , model correctly identified 62% as fraud "
   ]
  },
  {
   "cell_type": "markdown",
   "id": "669404e7",
   "metadata": {},
   "source": [
    "## Overall Summary \n",
    "1. The Decision Tree model performs well for non-fraud cases but lacks balance when identifying fraud, resulting in low fraud precision and overall F1-score for the fraud class.\n",
    "2. The Random Forest model outperforms the Decision Tree model in terms of accuracy and fraud detection balance. It offers better fraud detection with higher precision, recall, and F1-score for the fraud class, making it more reliable for identifying fraudulent transactions."
   ]
  },
  {
   "cell_type": "code",
   "execution_count": null,
   "id": "5e1072c4",
   "metadata": {},
   "outputs": [],
   "source": []
  }
 ],
 "metadata": {
  "kernelspec": {
   "display_name": "Python 3 (ipykernel)",
   "language": "python",
   "name": "python3"
  },
  "language_info": {
   "codemirror_mode": {
    "name": "ipython",
    "version": 3
   },
   "file_extension": ".py",
   "mimetype": "text/x-python",
   "name": "python",
   "nbconvert_exporter": "python",
   "pygments_lexer": "ipython3",
   "version": "3.11.3"
  }
 },
 "nbformat": 4,
 "nbformat_minor": 5
}
